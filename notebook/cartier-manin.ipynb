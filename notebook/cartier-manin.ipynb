{
 "cells": [
  {
   "cell_type": "code",
   "execution_count": 1,
   "metadata": {},
   "outputs": [],
   "source": [
    "\"\"\"\n",
    "Функция, вычисляющая С(m,n)*a^m mod p\n",
    "\n",
    "Вход  : n,m,a\n",
    "Выход : С(m,n)*a^m mod p\n",
    "\"\"\"\n",
    "def mod_binomial_x_a(n,m,a):\n",
    "    K = a.base_ring()\n",
    "    if n<m:\n",
    "        print \"n<m\"\n",
    "        return 0\n",
    "    if m == 0 or n == 0:\n",
    "        return K(0)\n",
    "    s1,s2 = K(1),K(1)\n",
    "    for i in range(n-m+1,n+1):\n",
    "        s1 = (s1*i)\n",
    "    for i in range(2,m+1):\n",
    "        s2 = (s2*i)\n",
    "    return s1*(a^m)/s2"
   ]
  },
  {
   "cell_type": "code",
   "execution_count": 2,
   "metadata": {},
   "outputs": [],
   "source": [
    "\"\"\"\n",
    "Функция, возращающая произвольную точку кривой.\n",
    "\n",
    "Вход  : кривая C\n",
    "Выход : случайная точка на кривой С\n",
    "\"\"\"\n",
    "def random_point(C):\n",
    "    out = []\n",
    "    f = C.hyperelliptic_polynomials()[0]\n",
    "    while(True):\n",
    "        X = (C.base_ring()).random_element()\n",
    "        if (f(X).is_square()):\n",
    "            Y=sqrt(f(X))\n",
    "            out=[X,Y]\n",
    "            return C(out)"
   ]
  },
  {
   "cell_type": "code",
   "execution_count": 3,
   "metadata": {},
   "outputs": [],
   "source": [
    "\"\"\"\n",
    "Функция, возводящая коэффициенты матрицы А в степень р.\n",
    "\n",
    "Вход  : матрица А, р\n",
    "Выход : А^(p)\n",
    "\"\"\"\n",
    "def pow_matrix(A,p):\n",
    "    B = matrix(A)\n",
    "    for i in range(0,2):\n",
    "        row = [B[i][0]^p,B[i][1]^p]\n",
    "        B.set_row(i,row)\n",
    "    return B"
   ]
  },
  {
   "cell_type": "code",
   "execution_count": 4,
   "metadata": {},
   "outputs": [],
   "source": [
    "\"\"\"\n",
    "Функция, реализующая метод Картье-Манина\n",
    "\n",
    "Вход  : f(x) - многочлен кривой, \n",
    "        р - характеристика поля, n - степень расширения\n",
    "Выход : (s1,s2) mod p\n",
    "\"\"\"\n",
    "def manin(f,p,n):\n",
    "    if len(f.coefficients())==2 and f[0]!=0 and f[5]!=0:\n",
    "        z = int((p-1)/2)\n",
    "        k1,k2 = 3*z//5 if z%5==0 else 0, (3*z+1)//5 if (3*z+1)%5==0 else 0\n",
    "        k3,k4 = (z-1)//5 if (z-1)%5==0 else 0, z//5 if z%5==0 else 0\n",
    "        A = matrix([[mod_binomial_x_a(z,k1,f[0]),mod_binomial_x_a(z,k2,f[0])],\\\n",
    "                    [mod_binomial_x_a(z,k3,f[0]),mod_binomial_x_a(z,k4,f[0])]])\n",
    "    else:\n",
    "        fp = f^((p-1)/2)\n",
    "        A = matrix([[fp[p-1],fp[p-2]],[fp[2*p-1],fp[2*p-2]]])\n",
    "    Af = matrix(A)\n",
    "    for i in range(1,n):\n",
    "        Af = Af*pow_matrix(A,p^(i))\n",
    "    s1 = Af[0][0]+Af[1][1]\n",
    "    s2 = Af[0][0]*Af[1][1]-Af[1][0]*Af[0][1]\n",
    "    return (s1,s2)"
   ]
  },
  {
   "cell_type": "code",
   "execution_count": 5,
   "metadata": {},
   "outputs": [],
   "source": [
    "\"\"\"\n",
    "Функция, восстанавливающая многочлен х(t) с помощью\n",
    "множества случайных дивизоров (над простым полем)\n",
    "\n",
    "Вход  : hi_mod - (s1,s2) mod p, \n",
    "        р - характеристика поля, \n",
    "Выход : (s1,s2)\n",
    "\"\"\"\n",
    "def recovery_hi(hi_mod,p,f):\n",
    "    s1,s2 = 0,int(hi_mod[1])\n",
    "    bound_s1 = int(4*sqrt(float(p)))\n",
    "    if int(hi_mod[0]) > bound_s1 or int(hi_mod[0]) < -bound_s1:\n",
    "        s1 = -int(-hi_mod[0])\n",
    "    else:\n",
    "        s1 = int(hi_mod[0])\n",
    "    bound_s2_1 = -int(6*p)\n",
    "    bound_s2_2 = int(6*p)\n",
    "    candidates_s2 = [s2]\n",
    "    print \"{} <= s2 <= {}\".format(bound_s2_1,bound_s2_2)\n",
    "    i = p\n",
    "    while (s2-i >= bound_s2_1):\n",
    "        candidates_s2.append(s2-i)\n",
    "        i+=p\n",
    "    i = p\n",
    "    while (s2+i <= bound_s2_2):\n",
    "        candidates_s2.append(s2+i)\n",
    "        i+=p\n",
    "    C = HyperellipticCurve(f,0)\n",
    "    J = C.jacobian()\n",
    "    while len(candidates_s2)!=1:\n",
    "        D = J(random_point(C))\n",
    "        for j in candidates_s2:\n",
    "            ord_J = 1-s1+j-s1*p+p^2\n",
    "            if not (D*int(ord_J)).is_zero():\n",
    "                candidates_s2.remove(j)\n",
    "    s2 = candidates_s2[0]\n",
    "    return (s1,s2)"
   ]
  },
  {
   "cell_type": "code",
   "execution_count": 6,
   "metadata": {},
   "outputs": [
    {
     "name": "stdout",
     "output_type": "stream",
     "text": [
      "коэффициенты x(t) mod p: (111994350, 23781421)\n",
      "\n",
      "-671999946 <= s2 <= 671999946\n",
      "Затраченное время: 52.3298921585  c.\n",
      "\n",
      "x(t) = t^4 - (-5641)t^3 + (23781421)t^2 - (-631791949231)t + (12543997984000081)\n",
      "#J = 12544629799736375\n"
     ]
    }
   ],
   "source": [
    "\"\"\"\n",
    "Тест\n",
    "\"\"\"\n",
    "from time import time\n",
    "\n",
    "p,n = 111999991,1\n",
    "K = GF(p)                                               \n",
    "R.<x> = PolynomialRing(K)\n",
    "f = x^5+123*x^4+54*x^3+6423*x^2+625*x+467\n",
    "f = x^5+46714179\n",
    "tm1 = time()\n",
    "hi_mod = manin(f,p,n)\n",
    "print \"коэффициенты x(t) mod p: {}\".format(hi_mod)\n",
    "print\"\"\n",
    "hi = recovery_hi(hi_mod,p,f)\n",
    "\n",
    "print \"Затраченное время: {}  c.\".format(time()-tm1)\n",
    "print \"\"\n",
    "s1,s2 = hi\n",
    "ord_J = 1-s1+s2-s1*p+p^2\n",
    "print \"x(t) = t^4 - ({})t^3 + ({})t^2 - ({})t + ({})\".format(s1,s2,s1*p,p^2)\n",
    "print \"#J = {}\".format(ord_J)\n"
   ]
  },
  {
   "cell_type": "code",
   "execution_count": 7,
   "metadata": {},
   "outputs": [
    {
     "name": "stdout",
     "output_type": "stream",
     "text": [
      "x(t) = t^4 - (-5641)t^3 + (23781421)t^2 - (-631791949231)t + (12543997984000081)\n",
      "#J = 12544629799736375\n"
     ]
    }
   ],
   "source": [
    "\"\"\"\n",
    "проверка \"в лоб\" (через подсчет точек кривой)\n",
    "\"\"\"\n",
    "\n",
    "C=HyperellipticCurve(f,0)\n",
    "CFq,CFq2 = C.count_points(2)\n",
    "s1 = p-CFq+1\n",
    "s2 = (CFq2-p^2 +s1^2-1)/2\n",
    "ord_J = 1-s1+s2-s1*p+p^2\n",
    "print \"x(t) = t^4 - ({})t^3 + ({})t^2 - ({})t + ({})\".format(s1,s2,s1*p,p^2)\n",
    "print \"#J = {}\".format(ord_J)"
   ]
  },
  {
   "cell_type": "code",
   "execution_count": null,
   "metadata": {},
   "outputs": [],
   "source": []
  }
 ],
 "metadata": {
  "kernelspec": {
   "display_name": "SageMath 8.3",
   "language": "",
   "name": "sagemath"
  },
  "language_info": {
   "codemirror_mode": {
    "name": "ipython",
    "version": 2
   },
   "file_extension": ".py",
   "mimetype": "text/x-python",
   "name": "python",
   "nbconvert_exporter": "python",
   "pygments_lexer": "ipython2",
   "version": "2.7.15"
  }
 },
 "nbformat": 4,
 "nbformat_minor": 2
}
